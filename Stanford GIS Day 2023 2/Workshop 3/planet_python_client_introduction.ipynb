{
 "cells": [
  {
   "cell_type": "markdown",
   "metadata": {},
   "source": [
    "# Planet API Python Client\n"
   ]
  },
  {
   "cell_type": "markdown",
   "metadata": {},
   "source": [
    "This tutorial is an introduction to [Planet](https://www.planet.com)'s Data and Orders API using the official [Python client](https://github.com/planetlabs/planet-client-python), the `planet` module. It shows you how to create bulk orders, use our tools, and deliver to the cloud.\n",
    "\n",
    "## Requirements\n",
    "\n",
    "This tutorial assumes familiarity with the [Python](https://python.org) programming language throughout. Python modules used in this tutorial are:\n",
    "* [IPython](https://ipython.org/) and [Jupyter](https://jupyter.org/)\n",
    "* [planet](https://github.com/planetlabs/planet-client-python)\n",
    "* [geojsonio](https://pypi.python.org/pypi/geojsonio)\n",
    "* [rasterio](https://rasterio.readthedocs.io/en/latest/index.html)\n",
    "* [asyncio](https://docs.python.org/3/library/asyncio.html)\n",
    "\n",
    "You should also have an account on the Planet Platform and retrieve your API key from your [account page](https://www.planet.com/account/).\n",
    "\n",
    "## Useful links \n",
    "* [Planet Client V2 Documentation](https://github.com/planetlabs/planet-client-python)\n",
    "* [Planet Data API reference](https://developers.planet.com/docs/apis/data/)"
   ]
  },
  {
   "cell_type": "markdown",
   "metadata": {},
   "source": [
    "This tutorial will cover the basic operations possible with the Python client, particularly those that interact with the Data API and Orders API"
   ]
  },
  {
   "cell_type": "markdown",
   "metadata": {},
   "source": [
    "## Set up\n",
    "\n",
    "In order to interact with the Planet API using the client, we need to import the necessary packages & define helper functions."
   ]
  },
  {
   "cell_type": "code",
   "execution_count": 1,
   "metadata": {},
   "outputs": [],
   "source": [
    "#general packages\n",
    "import os\n",
    "import json\n",
    "import glob\n",
    "import asyncio\n",
    "import requests\n",
    "import nest_asyncio \n",
    "import matplotlib.pyplot as plt\n",
    "from requests.auth import HTTPBasicAuth\n",
    "from datetime import datetime, timedelta\n",
    "\n",
    "#geospatial packages\n",
    "import rasterio\n",
    "import geopandas as gpd\n",
    "from shapely.geometry import shape\n",
    "from shapely.ops import unary_union\n",
    "\n",
    "\n",
    "#planet SDK\n",
    "from planet import Auth, reporting, Session, OrdersClient, order_request, data_filter\n",
    "\n",
    "\n",
    "# We will also create a small helper function to print out JSON with proper indentation.\n",
    "def indent(data):\n",
    "    print(json.dumps(data, indent=2))"
   ]
  },
  {
   "cell_type": "markdown",
   "metadata": {},
   "source": [
    "We next need to create a `client` object registered with our API key. The API key will be automatically read from the `PL_API_KEY` environment variable if it exists. If not, you can provide it below. You can also authenticate via the CLI using [`auth init`](https://planet-sdk-for-python-v2.readthedocs.io/en/latest/cli/cli-reference/?h=auth#auth:~:text=message%20and%20exit.-,auth,-%C2%B6), this will store your API key as an environment variable."
   ]
  },
  {
   "cell_type": "code",
   "execution_count": 9,
   "metadata": {},
   "outputs": [],
   "source": [
    "\n",
    "API_KEY = input(\"Paste API Key here\")\n",
    "os.environ['PL_API_KEY'] = API_KEY\n",
    "\n",
    "client = Auth.from_key(API_KEY)"
   ]
  },
  {
   "cell_type": "markdown",
   "metadata": {},
   "source": [
    "## Searching\n",
    "\n",
    "We can search for items that are interesting by using the `quick_search` member function. Searches, however, always require a proper request that includes a filter that selects the specific items to return as seach results."
   ]
  },
  {
   "cell_type": "markdown",
   "metadata": {},
   "source": [
    "Let's also read in a GeoJSON geometry into a variable so we can use it during testing. The geometry can only have one polygon to work with the data API"
   ]
  },
  {
   "cell_type": "code",
   "execution_count": 10,
   "metadata": {},
   "outputs": [
    {
     "name": "stdout",
     "output_type": "stream",
     "text": [
      "{'type': 'Polygon', 'coordinates': [[[-122.41199233711868, 40.80123709923839], [-122.33296384724517, 40.80119907248327], [-122.33318988290331, 40.83315984019974], [-122.41192371590644, 40.83344073039331], [-122.41199233711868, 40.80123709923839]]]}\n"
     ]
    }
   ],
   "source": [
    "with open(\"lake_shasta.geojson\") as f:\n",
    "    geom_all = json.loads(f.read())['features'][0]['geometry']\n",
    "geom_large = {\n",
    "    \"type\": \"Polygon\",\n",
    "    \"coordinates\": [\n",
    "        [[-122.48691050204125,40.7049384269217],\n",
    "         [-122.11474863680688,40.7049384269217],\n",
    "         [-122.11474863680688,40.898294348395034],\n",
    "         [-122.48691050204125,40.898294348395034],\n",
    "         [-122.48691050204125,40.7049384269217]]]\n",
    "}\n",
    "print(geom_all)"
   ]
  },
  {
   "cell_type": "markdown",
   "metadata": {},
   "source": [
    "### Filters"
   ]
  },
  {
   "cell_type": "markdown",
   "metadata": {},
   "source": [
    "The possible filters include `and_filter`, `date_range_filter`, `range_filter` and so on, mirroring the options supported by the Planet API. Additional filters are described [here](https://planet-sdk-for-python-v2.readthedocs.io/en/latest/python/sdk-guide/#filter:~:text=(main())-,Filter,-%C2%B6)."
   ]
  },
  {
   "cell_type": "code",
   "execution_count": 11,
   "metadata": {},
   "outputs": [],
   "source": [
    "# Define the filters we'll use to find our data\n",
    "\n",
    "item_types = [\"PSScene\"]\n",
    "\n",
    "#Geometry filter\n",
    "geom_filter = data_filter.geometry_filter(geom_large)\n",
    "\n",
    "#Date range filter\n",
    "date_range_filter = data_filter.date_range_filter(\n",
    "    \"acquired\", gt = datetime(month=11, day=1, year=2022),\n",
    "    lt = datetime(month=3, day=1, year=2023))\n",
    "#Cloud cover filter\n",
    "#cloud_cover_filter = data_filter.range_filter('clear_percent', gt = 80)\n",
    "\n",
    "#Combine all of the filters\n",
    "combined_filter = data_filter.and_filter([geom_filter, date_range_filter])#, cloud_cover_filter])"
   ]
  },
  {
   "cell_type": "code",
   "execution_count": 12,
   "metadata": {
    "scrolled": true
   },
   "outputs": [
    {
     "data": {
      "text/plain": [
       "{'type': 'AndFilter',\n",
       " 'config': [{'type': 'GeometryFilter',\n",
       "   'field_name': 'geometry',\n",
       "   'config': {'type': 'Polygon',\n",
       "    'coordinates': [[[-122.48691050204125, 40.7049384269217],\n",
       "      [-122.11474863680688, 40.7049384269217],\n",
       "      [-122.11474863680688, 40.898294348395034],\n",
       "      [-122.48691050204125, 40.898294348395034],\n",
       "      [-122.48691050204125, 40.7049384269217]]]}},\n",
       "  {'type': 'DateRangeFilter',\n",
       "   'field_name': 'acquired',\n",
       "   'config': {'gt': '2022-11-01T00:00:00Z', 'lt': '2023-03-01T00:00:00Z'}}]}"
      ]
     },
     "execution_count": 12,
     "metadata": {},
     "output_type": "execute_result"
    }
   ],
   "source": [
    "combined_filter"
   ]
  },
  {
   "cell_type": "markdown",
   "metadata": {},
   "source": [
    "Using the method of directly pinging the API"
   ]
  },
  {
   "cell_type": "code",
   "execution_count": 13,
   "metadata": {},
   "outputs": [],
   "source": [
    "item_type = \"PSScene\"\n",
    "\n",
    "# API request object\n",
    "search_request = {\n",
    "  \"item_types\": [item_type], \n",
    "  \"filter\": combined_filter\n",
    "}"
   ]
  },
  {
   "cell_type": "code",
   "execution_count": 14,
   "metadata": {},
   "outputs": [
    {
     "name": "stdout",
     "output_type": "stream",
     "text": [
      "250\n"
     ]
    }
   ],
   "source": [
    "# fire off the POST request\n",
    "search_result = \\\n",
    "  requests.post(\n",
    "    'https://api.planet.com/data/v1/quick-search',\n",
    "    auth=HTTPBasicAuth(API_KEY, ''),\n",
    "    json=search_request)\n",
    "\n",
    "# extract image IDs only\n",
    "image_ids = [feature['id'] for feature in search_result.json()['features']]\n",
    "print(len(image_ids))"
   ]
  },
  {
   "cell_type": "markdown",
   "metadata": {},
   "source": [
    "Pagination links"
   ]
  },
  {
   "cell_type": "code",
   "execution_count": 15,
   "metadata": {},
   "outputs": [
    {
     "data": {
      "text/plain": [
       "{'_first': 'https://api.planet.com/data/v1/searches/5bc94dbd94d046569788371b9fec3e89/results?_page=eyJwYWdlX3NpemUiOiAyNTAsICJzb3J0X2J5IjogInB1Ymxpc2hlZCIsICJzb3J0X2Rlc2MiOiB0cnVlLCAic29ydF9zdGFydCI6IG51bGwsICJzb3J0X2xhc3RfaWQiOiBudWxsLCAic29ydF9wcmV2IjogZmFsc2UsICJxdWVyeV9wYXJhbXMiOiB7fX0%3D',\n",
       " '_next': 'https://api.planet.com/data/v1/searches/5bc94dbd94d046569788371b9fec3e89/results?_page=eyJwYWdlX3NpemUiOiAyNTAsICJzb3J0X2J5IjogInB1Ymxpc2hlZCIsICJzb3J0X2Rlc2MiOiB0cnVlLCAic29ydF9zdGFydCI6ICIyMDIyLTEyLTIyVDIyOjQ1OjEzLjAwMDAwMFoiLCAic29ydF9sYXN0X2lkIjogIjIwMjIxMjIyXzE4MzEyNl8yM18yNDcwIiwgInNvcnRfcHJldiI6IGZhbHNlLCAicXVlcnlfcGFyYW1zIjoge319',\n",
       " '_self': 'https://api.planet.com/data/v1/searches/5bc94dbd94d046569788371b9fec3e89/results?_page=eyJwYWdlX3NpemUiOiAyNTAsICJzb3J0X2J5IjogInB1Ymxpc2hlZCIsICJzb3J0X2Rlc2MiOiB0cnVlLCAic29ydF9zdGFydCI6IG51bGwsICJzb3J0X2xhc3RfaWQiOiBudWxsLCAic29ydF9wcmV2IjogZmFsc2UsICJxdWVyeV9wYXJhbXMiOiB7fX0%3D'}"
      ]
     },
     "execution_count": 15,
     "metadata": {},
     "output_type": "execute_result"
    }
   ],
   "source": [
    "search_result.json()['_links']"
   ]
  },
  {
   "cell_type": "markdown",
   "metadata": {},
   "source": [
    "Now let's do it using the SDK"
   ]
  },
  {
   "cell_type": "code",
   "execution_count": 16,
   "metadata": {},
   "outputs": [],
   "source": [
    "async with Session() as sess:\n",
    "    cl = sess.client('data')\n",
    "    item_list = [i async for i in cl.search(search_filter=combined_filter, item_types=item_types,limit=500)]"
   ]
  },
  {
   "cell_type": "markdown",
   "metadata": {},
   "source": [
    "If the number of items requested is more than 250, the client will automatically fetch more pages of results in order to get the exact number requested.\n",
    "\n",
    "Then we can save the output to be visualized as a geojson"
   ]
  },
  {
   "cell_type": "code",
   "execution_count": 17,
   "metadata": {},
   "outputs": [
    {
     "data": {
      "text/plain": [
       "462"
      ]
     },
     "execution_count": 17,
     "metadata": {},
     "output_type": "execute_result"
    }
   ],
   "source": [
    "len(item_list)"
   ]
  },
  {
   "cell_type": "code",
   "execution_count": 18,
   "metadata": {},
   "outputs": [],
   "source": [
    "#Cloud cover filter\n",
    "cloud_cover_filter = data_filter.range_filter('clear_percent', gt = 80)\n",
    "\n",
    "#Combine all of the filters\n",
    "combined_filter = data_filter.and_filter([geom_filter, date_range_filter, cloud_cover_filter])\n",
    "\n",
    "async with Session() as sess:\n",
    "    cl = sess.client('data')\n",
    "    item_list = [i async for i in cl.search(search_filter=combined_filter, item_types=item_types,limit=500)]"
   ]
  },
  {
   "cell_type": "code",
   "execution_count": 19,
   "metadata": {},
   "outputs": [
    {
     "data": {
      "text/plain": [
       "153"
      ]
     },
     "execution_count": 19,
     "metadata": {},
     "output_type": "execute_result"
    }
   ],
   "source": [
    "len(item_list)"
   ]
  },
  {
   "cell_type": "markdown",
   "metadata": {},
   "source": [
    "Now, we can iterate through our search results."
   ]
  },
  {
   "cell_type": "code",
   "execution_count": 20,
   "metadata": {
    "scrolled": true
   },
   "outputs": [
    {
     "name": "stdout",
     "output_type": "stream",
     "text": [
      "20230212_180808_26_24ca PSScene\n",
      "20230129_180421_19_24bf PSScene\n",
      "20230129_180418_82_24bf PSScene\n",
      "20230206_180516_99_2415 PSScene\n",
      "20230206_180514_61_2415 PSScene\n",
      "20230206_180512_23_2415 PSScene\n",
      "20230119_180752_40_24cc PSScene\n",
      "20230129_180646_35_24c0 PSScene\n",
      "20230129_180643_98_24c0 PSScene\n",
      "20230220_180524_97_24af PSScene\n",
      "20230215_180155_91_24b2 PSScene\n",
      "20230219_183433_19_2488 PSScene\n",
      "20230219_183437_75_2488 PSScene\n",
      "20230219_183435_47_2488 PSScene\n",
      "20230215_183614_29_2477 PSScene\n",
      "20230215_183612_00_2477 PSScene\n",
      "20230213_183645_48_2473 PSScene\n",
      "20230213_183647_78_2473 PSScene\n",
      "20230212_182219_33_2276 PSScene\n",
      "20230212_182217_23_2276 PSScene\n",
      "20230212_182215_13_2276 PSScene\n",
      "20230212_184232_71_2424 PSScene\n",
      "20230212_184228_28_2424 PSScene\n",
      "20230212_184230_50_2424 PSScene\n",
      "20230209_183619_29_2481 PSScene\n",
      "20230209_183617_01_2481 PSScene\n",
      "20230208_183511_46_248f PSScene\n",
      "20230208_183509_15_248f PSScene\n",
      "20230208_183513_77_248f PSScene\n",
      "20230202_175730_69_241b PSScene\n",
      "20230202_175735_10_241b PSScene\n",
      "20230202_175732_90_241b PSScene\n",
      "20230201_183503_55_248c PSScene\n",
      "20230130_183347_58_247f PSScene\n",
      "20230130_185116_62_240c PSScene\n",
      "20230130_185114_48_240c PSScene\n",
      "20230130_183345_26_247f PSScene\n",
      "20230129_185130_90_2426 PSScene\n",
      "20230129_185135_13_2426 PSScene\n",
      "20230129_185133_01_2426 PSScene\n",
      "20230128_175434_37_2451 PSScene\n",
      "20230128_175432_12_2451 PSScene\n",
      "20230128_175436_63_2451 PSScene\n",
      "20230126_183732_46_247b PSScene\n",
      "20230126_183734_56_247b PSScene\n",
      "20230125_183608_08_2481 PSScene\n",
      "20230125_183612_64_2481 PSScene\n",
      "20230125_183610_36_2481 PSScene\n",
      "20230126_175354_62_2449 PSScene\n",
      "20230126_175352_41_2449 PSScene\n",
      "20230126_175350_19_2449 PSScene\n",
      "20230125_183736_29_249d PSScene\n",
      "20230125_183738_61_249d PSScene\n",
      "20230125_175023_37_2445 PSScene\n",
      "20230125_175028_07_2445 PSScene\n",
      "20230125_175025_72_2445 PSScene\n",
      "20230124_183834_02_2473 PSScene\n",
      "20230124_183836_34_2473 PSScene\n",
      "20230122_183445_76_2478 PSScene\n",
      "20230122_183443_45_2478 PSScene\n",
      "20230122_183259_76_248c PSScene\n",
      "20230122_183257_46_248c PSScene\n",
      "20230120_180041_98_242d PSScene\n",
      "20230120_183533_11_249d PSScene\n",
      "20230117_175513_75_2423 PSScene\n",
      "20230117_175516_05_2423 PSScene\n",
      "20230101_175614_44_2449 PSScene\n",
      "20230101_175619_05_2449 PSScene\n",
      "20230101_175616_74_2449 PSScene\n",
      "20221225_183643_11_2438 PSScene\n",
      "20221225_183647_78_2438 PSScene\n",
      "20221225_183645_44_2438 PSScene\n",
      "20221218_183622_02_2480 PSScene\n",
      "20221218_184743_10_2426 PSScene\n",
      "20221218_183626_31_2480 PSScene\n",
      "20221218_183624_17_2480 PSScene\n",
      "20221218_184747_59_2426 PSScene\n",
      "20221218_184745_34_2426 PSScene\n",
      "20221217_175658_84_242b PSScene\n",
      "20221217_175656_52_242b PSScene\n",
      "20221216_183626_51_2499 PSScene\n",
      "20221214_183927_07_227b PSScene\n",
      "20221213_183409_46_2474 PSScene\n",
      "20221213_180022_09_2429 PSScene\n",
      "20221212_183531_43_248f PSScene\n",
      "20221212_183536_12_248f PSScene\n",
      "20221212_183533_78_248f PSScene\n",
      "20221206_180102_77_2432 PSScene\n",
      "20221206_183613_57_2486 PSScene\n",
      "20221206_180107_40_2432 PSScene\n",
      "20221206_180105_09_2432 PSScene\n",
      "20221201_182114_57_2276 PSScene\n",
      "20221129_175813_24_2447 PSScene\n",
      "20221129_175817_88_2447 PSScene\n",
      "20221129_175815_56_2447 PSScene\n",
      "20221129_183614_92_247d PSScene\n",
      "20221129_183612_57_247d PSScene\n",
      "20221128_184619_06_2414 PSScene\n",
      "20221128_184623_52_2414 PSScene\n",
      "20221128_184621_29_2414 PSScene\n",
      "20221127_182255_71_2276 PSScene\n",
      "20221127_182253_50_2276 PSScene\n",
      "20221127_182251_28_2276 PSScene\n",
      "20221126_183522_04_247f PSScene\n",
      "20221126_183526_74_247f PSScene\n",
      "20221126_183524_39_247f PSScene\n",
      "20221126_183319_18_2474 PSScene\n",
      "20221126_183316_82_2474 PSScene\n",
      "20221124_183405_61_248e PSScene\n",
      "20221124_183410_33_248e PSScene\n",
      "20221124_183407_97_248e PSScene\n",
      "20221124_174909_02_2445 PSScene\n",
      "20221124_174906_63_2445 PSScene\n",
      "20221123_183311_37_247e PSScene\n",
      "20221123_183309_02_247e PSScene\n",
      "20221123_183306_67_247e PSScene\n",
      "20221120_183454_24_24a3 PSScene\n",
      "20221120_183458_92_24a3 PSScene\n",
      "20221120_183456_58_24a3 PSScene\n",
      "20221119_184945_40_2426 PSScene\n",
      "20221119_183604_45_249e PSScene\n",
      "20221119_183602_10_249e PSScene\n",
      "20221119_183559_75_249e PSScene\n",
      "20221119_184949_90_2426 PSScene\n",
      "20221119_184947_65_2426 PSScene\n",
      "20221119_182458_04_2276 PSScene\n",
      "20221119_182455_81_2276 PSScene\n",
      "20221117_184556_56_227a PSScene\n",
      "20221117_184558_92_227a PSScene\n",
      "20221117_183632_58_247e PSScene\n",
      "20221117_183627_87_247e PSScene\n",
      "20221117_183630_23_247e PSScene\n",
      "20221116_183209_97_2477 PSScene\n",
      "20221116_183212_32_2477 PSScene\n",
      "20221115_183635_67_247c PSScene\n",
      "20221115_175855_87_2460 PSScene\n",
      "20221115_175853_53_2460 PSScene\n",
      "20221115_183640_36_247c PSScene\n",
      "20221115_183638_01_247c PSScene\n",
      "20221114_180011_11_241b PSScene\n",
      "20221114_180015_75_241b PSScene\n",
      "20221114_180013_43_241b PSScene\n",
      "20221113_183346_72_2490 PSScene\n",
      "20221113_183344_37_2490 PSScene\n",
      "20221113_183342_01_2490 PSScene\n",
      "20221110_175741_31_2463 PSScene\n",
      "20221110_175739_01_2463 PSScene\n",
      "20221103_183401_44_249d PSScene\n",
      "20221103_183359_08_249d PSScene\n",
      "20221103_183356_72_249d PSScene\n",
      "20221103_182322_18_2276 PSScene\n",
      "20221103_182324_41_2276 PSScene\n",
      "20221103_182319_95_2276 PSScene\n"
     ]
    }
   ],
   "source": [
    "for item in item_list:\n",
    "    print(item['id'], item['properties']['item_type'])"
   ]
  },
  {
   "cell_type": "markdown",
   "metadata": {},
   "source": [
    "Here we can save all of our scene footprints as a geojson"
   ]
  },
  {
   "cell_type": "code",
   "execution_count": 21,
   "metadata": {},
   "outputs": [],
   "source": [
    "scene_geoms = {\n",
    "  \"type\": \"FeatureCollection\",\n",
    "  \"features\": []\n",
    "}\n",
    "\n",
    "if not os.path.isdir('output'):\n",
    "    os.mkdir('output')\n",
    "else:\n",
    "    if os.path.isfile('output/results.geojson'):\n",
    "        os.remove('output/results.geojson')\n",
    "\n",
    "with open('output/results.geojson','w') as f:\n",
    "    for item in item_list:\n",
    "        geom_out =     {\n",
    "          \"type\": \"Feature\",\n",
    "          \"properties\": item['properties'],\n",
    "          \"geometry\": item['geometry']\n",
    "        }\n",
    "        scene_geoms['features'].append(geom_out)\n",
    "    jsonStr = json.dumps(scene_geoms)\n",
    "    f.write(jsonStr)\n",
    "    f.close()"
   ]
  },
  {
   "cell_type": "code",
   "execution_count": 22,
   "metadata": {},
   "outputs": [
    {
     "data": {
      "text/plain": [
       "{'_links': {'_self': 'https://api.planet.com/data/v1/item-types/PSScene/items/20230212_180808_26_24ca',\n",
       "  'assets': 'https://api.planet.com/data/v1/item-types/PSScene/items/20230212_180808_26_24ca/assets/',\n",
       "  'thumbnail': 'https://tiles.planet.com/data/v1/item-types/PSScene/items/20230212_180808_26_24ca/thumb'},\n",
       " '_permissions': ['assets.basic_analytic_4b:download',\n",
       "  'assets.basic_analytic_4b_rpc:download',\n",
       "  'assets.basic_analytic_4b_xml:download',\n",
       "  'assets.basic_analytic_8b:download',\n",
       "  'assets.basic_analytic_8b_xml:download',\n",
       "  'assets.basic_udm2:download',\n",
       "  'assets.ortho_analytic_4b:download',\n",
       "  'assets.ortho_analytic_4b_sr:download',\n",
       "  'assets.ortho_analytic_4b_xml:download',\n",
       "  'assets.ortho_analytic_8b:download',\n",
       "  'assets.ortho_analytic_8b_sr:download',\n",
       "  'assets.ortho_analytic_8b_xml:download',\n",
       "  'assets.ortho_udm2:download',\n",
       "  'assets.ortho_visual:download'],\n",
       " 'assets': ['basic_analytic_4b',\n",
       "  'basic_analytic_4b_rpc',\n",
       "  'basic_analytic_4b_xml',\n",
       "  'basic_analytic_8b',\n",
       "  'basic_analytic_8b_xml',\n",
       "  'basic_udm2',\n",
       "  'ortho_analytic_4b',\n",
       "  'ortho_analytic_4b_sr',\n",
       "  'ortho_analytic_4b_xml',\n",
       "  'ortho_analytic_8b',\n",
       "  'ortho_analytic_8b_sr',\n",
       "  'ortho_analytic_8b_xml',\n",
       "  'ortho_udm2',\n",
       "  'ortho_visual'],\n",
       " 'geometry': {'coordinates': [[[-122.74532519118017, 41.06803349123115],\n",
       "    [-122.80060575255294, 40.8823707276044],\n",
       "    [-122.3904996685899, 40.81092896287089],\n",
       "    [-122.33403748101382, 40.99704749187751],\n",
       "    [-122.74532519118017, 41.06803349123115]]],\n",
       "  'type': 'Polygon'},\n",
       " 'id': '20230212_180808_26_24ca',\n",
       " 'properties': {'acquired': '2023-02-12T18:08:08.267256Z',\n",
       "  'anomalous_pixels': 0,\n",
       "  'clear_confidence_percent': 88,\n",
       "  'clear_percent': 86,\n",
       "  'cloud_cover': 0.02,\n",
       "  'cloud_percent': 2,\n",
       "  'ground_control': True,\n",
       "  'gsd': 4,\n",
       "  'heavy_haze_percent': 0,\n",
       "  'instrument': 'PSB.SD',\n",
       "  'item_type': 'PSScene',\n",
       "  'light_haze_percent': 0,\n",
       "  'pixel_resolution': 3,\n",
       "  'provider': 'planetscope',\n",
       "  'published': '2023-05-08T21:02:44Z',\n",
       "  'publishing_stage': 'finalized',\n",
       "  'quality_category': 'standard',\n",
       "  'satellite_azimuth': 275.9,\n",
       "  'satellite_id': '24ca',\n",
       "  'shadow_percent': 3,\n",
       "  'snow_ice_percent': 9,\n",
       "  'strip_id': '6282801',\n",
       "  'sun_azimuth': 142.1,\n",
       "  'sun_elevation': 26.9,\n",
       "  'updated': '2023-05-08T21:02:44Z',\n",
       "  'view_angle': 2,\n",
       "  'visible_confidence_percent': 71,\n",
       "  'visible_percent': 98},\n",
       " 'type': 'Feature'}"
      ]
     },
     "execution_count": 22,
     "metadata": {},
     "output_type": "execute_result"
    }
   ],
   "source": [
    "item_list[0]"
   ]
  },
  {
   "cell_type": "markdown",
   "metadata": {},
   "source": [
    "## Ordering"
   ]
  },
  {
   "cell_type": "markdown",
   "metadata": {},
   "source": [
    "Now that we have all of the imagery that we want to order we need to package it in a way that the Orders API can handle. Breaking it up by week."
   ]
  },
  {
   "cell_type": "code",
   "execution_count": 23,
   "metadata": {},
   "outputs": [
    {
     "name": "stdout",
     "output_type": "stream",
     "text": [
      "12\n"
     ]
    }
   ],
   "source": [
    "grouped_items = []\n",
    "current_group = []\n",
    "#reverse the list since it comes in last date first\n",
    "reversed_items = sorted(item_list, key=lambda item: item['properties']['acquired'])\n",
    "\n",
    "#Select the earliest item\n",
    "group_start_date = datetime.strptime(reversed_items[0]['properties']['acquired'], \"%Y-%m-%dT%H:%M:%S.%fZ\")\n",
    "\n",
    "for item in reversed_items:\n",
    "    time_object = item['properties']['acquired']\n",
    "    time = datetime.strptime(time_object, \"%Y-%m-%dT%H:%M:%S.%fZ\")\n",
    "    \n",
    "    if time < group_start_date + timedelta(days=7):\n",
    "        current_group.append(item)\n",
    "        \n",
    "    else:\n",
    "        grouped_items.append(current_group)\n",
    "        current_group = [item]\n",
    "        group_start_date = time\n",
    "if current_group:\n",
    "    grouped_items.append(current_group)\n",
    "\n",
    "print(len(grouped_items))"
   ]
  },
  {
   "cell_type": "markdown",
   "metadata": {},
   "source": [
    "Lets see what the cloud cover is for our scenes"
   ]
  },
  {
   "cell_type": "code",
   "execution_count": 24,
   "metadata": {},
   "outputs": [
    {
     "name": "stdout",
     "output_type": "stream",
     "text": [
      "95\n",
      "98\n",
      "100\n",
      "91\n",
      "93\n",
      "94\n",
      "95\n",
      "100\n"
     ]
    }
   ],
   "source": [
    "for item in grouped_items[0]:\n",
    "    print(item['properties']['clear_percent'])"
   ]
  },
  {
   "cell_type": "markdown",
   "metadata": {},
   "source": [
    "We need to sort the images to prioritize the clearer images ontop for the next step"
   ]
  },
  {
   "cell_type": "code",
   "execution_count": 25,
   "metadata": {},
   "outputs": [
    {
     "name": "stdout",
     "output_type": "stream",
     "text": [
      "100\n",
      "100\n",
      "98\n",
      "95\n",
      "95\n",
      "94\n",
      "93\n",
      "91\n"
     ]
    }
   ],
   "source": [
    "sorted_items = []\n",
    "for group in grouped_items:\n",
    "    sorted_group = sorted(group, key=lambda item: item['properties']['clear_percent'], reverse=True)\n",
    "    sorted_items.append(sorted_group)\n",
    "    \n",
    "\n",
    "for item in sorted_items[0]:\n",
    "    print(item['properties']['clear_percent'])"
   ]
  },
  {
   "cell_type": "code",
   "execution_count": 26,
   "metadata": {},
   "outputs": [],
   "source": [
    "def get_overlap(geometry1, geometry2):\n",
    "    \"\"\"Calculate the area of overlap between two geometries.\"\"\"\n",
    "    shape1 = shape(geometry1)\n",
    "    shape2 = shape(geometry2)\n",
    "\n",
    "    # Compute the intersection of the two geometries.\n",
    "    intersection = shape1.intersection(shape2)\n",
    "\n",
    "    return intersection"
   ]
  },
  {
   "cell_type": "markdown",
   "metadata": {},
   "source": [
    "Look for the minimum about on scenes to cover the entire AOI"
   ]
  },
  {
   "cell_type": "code",
   "execution_count": 27,
   "metadata": {},
   "outputs": [
    {
     "name": "stdout",
     "output_type": "stream",
     "text": [
      "8  to  1\n",
      "26  to  4\n",
      "19  to  1\n",
      "9  to  1\n",
      "8  to  1\n",
      "11  to  2\n",
      "6  to  0\n",
      "9  to  3\n",
      "29  to  3\n",
      "7  to  1\n",
      "15  to  1\n",
      "6  to  1\n"
     ]
    }
   ],
   "source": [
    "minimum_sorted_list = []\n",
    "\n",
    "\n",
    "for week_items in sorted_items:\n",
    "    intersection = False\n",
    "    weekly_minimum_list = []\n",
    "    for item in week_items:\n",
    "        #for each scene itterate through every geometry and check if it overlaps with the scene\n",
    "        overlap = get_overlap(geom_all, item['geometry'])\n",
    "        if intersection:\n",
    "            new_intersection = unary_union([overlap,intersection])\n",
    "\n",
    "            #If the new interseciton is bigger then the old then add the scene to the order\n",
    "            if round(new_intersection.area, 8) > round(intersection.area, 8):\n",
    "                intersection = new_intersection\n",
    "                weekly_minimum_list.append(item)\n",
    "        else:\n",
    "            if overlap.area > 0:\n",
    "                intersection = overlap\n",
    "                weekly_minimum_list.append(item)\n",
    "    print(len(week_items), \" to \", len(weekly_minimum_list))\n",
    "    \n",
    "    if len(weekly_minimum_list) > 0:\n",
    "        minimum_sorted_list.append(weekly_minimum_list)"
   ]
  },
  {
   "cell_type": "code",
   "execution_count": 28,
   "metadata": {},
   "outputs": [
    {
     "name": "stdout",
     "output_type": "stream",
     "text": [
      "100\n",
      "100\n",
      "98\n",
      "95\n",
      "95\n",
      "94\n",
      "93\n",
      "91\n",
      "Now\n",
      "98\n"
     ]
    }
   ],
   "source": [
    "for item in sorted_items[0]:\n",
    "    print(item['properties']['clear_percent'])\n",
    "print(\"Now\")\n",
    "for item in minimum_sorted_list[0]:\n",
    "    print(item['properties']['clear_percent'])"
   ]
  },
  {
   "cell_type": "markdown",
   "metadata": {},
   "source": [
    "Now lets print the average clear percent of each scene we are ordering"
   ]
  },
  {
   "cell_type": "code",
   "execution_count": 29,
   "metadata": {},
   "outputs": [
    {
     "name": "stdout",
     "output_type": "stream",
     "text": [
      "98.0\n",
      "98.5\n",
      "98.0\n",
      "93.0\n",
      "91.0\n",
      "95.0\n",
      "92.33333333333333\n",
      "97.66666666666667\n",
      "98.0\n",
      "100.0\n",
      "97.0\n"
     ]
    }
   ],
   "source": [
    "for group in minimum_sorted_list:\n",
    "    clear = []\n",
    "    for item in group:\n",
    "        clear.append(int(item['properties']['clear_percent']))\n",
    "    print(sum(clear)/len(clear))"
   ]
  },
  {
   "cell_type": "markdown",
   "metadata": {},
   "source": [
    "We need to reverse the order of the scenes one more time because when mosaicing the last scene is stacked at the top"
   ]
  },
  {
   "cell_type": "code",
   "execution_count": 30,
   "metadata": {},
   "outputs": [
    {
     "name": "stdout",
     "output_type": "stream",
     "text": [
      "98\n"
     ]
    }
   ],
   "source": [
    "order_items = []\n",
    "for group in minimum_sorted_list:\n",
    "    sorted_group = sorted(group, key=lambda item: item['properties']['clear_percent'])\n",
    "    order_items.append(sorted_group)\n",
    "    \n",
    "for item in order_items[0]:\n",
    "    print(item['properties']['clear_percent'])"
   ]
  },
  {
   "cell_type": "markdown",
   "metadata": {},
   "source": [
    "### Place a Order\n",
    "Create the order structure using `planet` functions"
   ]
  },
  {
   "cell_type": "code",
   "execution_count": null,
   "metadata": {},
   "outputs": [],
   "source": [
    "async def assemble_order(name,item_ids):\n",
    "    products = [\n",
    "        order_request.product(item_ids, 'analytic_udm2', 'PSScene')\n",
    "    ]\n",
    "    \n",
    "    clip = order_request.clip_tool(aoi=geom_all)\n",
    "    bandmath = order_request.band_math_tool(b1='(b2-b4)/(b2+b4)*100+100', pixel_type='8U')\n",
    "    composite = order_request.composite_tool()\n",
    "\n",
    "    \n",
    "    \n",
    "    tools = [clip,bandmath,composite]\n",
    "\n",
    "    request = order_request.build_request(\n",
    "        name, products=products, tools=tools)\n",
    "    return request\n",
    "    \n",
    "request =  await assemble_order(\"test\",['20230207_180504_51_24b6'])"
   ]
  },
  {
   "cell_type": "code",
   "execution_count": null,
   "metadata": {},
   "outputs": [],
   "source": [
    "print(request)"
   ]
  },
  {
   "cell_type": "markdown",
   "metadata": {},
   "source": [
    "Lets create a funcion to order imagery"
   ]
  },
  {
   "cell_type": "code",
   "execution_count": null,
   "metadata": {},
   "outputs": [],
   "source": [
    "async def do_order(request):\n",
    "    async with Session() as sess:\n",
    "        cl = OrdersClient(sess)\n",
    "        #with reporting.StateBar(state='creating') as bar:\n",
    "        order = await cl.create_order(request)\n",
    "        #bar.update(state='created', order_id=order['id'])\n",
    "\n",
    "        await cl.wait(order['id'],max_attempts=0)#, callback=bar.update_state)\n",
    "        os.mkdir(request['name'])\n",
    "        \n",
    "        # if we get here that means the order completed. Yay! Download the files.\n",
    "        await cl.download_order(order['id'],directory=request['name'])\n"
   ]
  },
  {
   "cell_type": "markdown",
   "metadata": {},
   "source": [
    "Now we can create all our orders"
   ]
  },
  {
   "cell_type": "code",
   "execution_count": null,
   "metadata": {},
   "outputs": [],
   "source": [
    "order_list = []\n",
    "folder_list= []\n",
    "name = \"lake_shasta_cloud_\"\n",
    "for group in order_items:\n",
    "    ids = []\n",
    "    order_name = name + group[0]['properties']['acquired'][:10]\n",
    "    print(order_name)\n",
    "    folder_list.append(order_name)\n",
    "    for item in group:\n",
    "        ids.append(item['id'])\n",
    "    order_list.append(await assemble_order(order_name,ids))\n",
    "print(len(order_list))"
   ]
  },
  {
   "cell_type": "code",
   "execution_count": null,
   "metadata": {},
   "outputs": [],
   "source": [
    "nest_asyncio.apply()\n",
    "\n",
    "#now all you need to do to have them run in parallel is to create an array of order requests\n",
    "async with Session() as sess:\n",
    "    tasks = [do_order(o) for o in order_list]\n",
    "    await asyncio.gather(*tasks)"
   ]
  },
  {
   "cell_type": "markdown",
   "metadata": {},
   "source": [
    "Now lets visualize our output!"
   ]
  },
  {
   "cell_type": "code",
   "execution_count": null,
   "metadata": {},
   "outputs": [],
   "source": [
    "files = []\n",
    "# for folder in folder_list:\n",
    "#     files.extend(glob.glob(folder+\"/*/composite.tif\"))\n",
    "\n",
    "files.extend(glob.glob(\"*/*/composite.tif\"))\n",
    "files.sort()\n",
    "nrow = 4\n",
    "ncol = 3\n",
    "\n",
    "f, axes = plt.subplots(nrow, ncol, figsize=(3*ncol, 3*nrow))\n",
    "for file, ax in zip(files, axes.flatten()):\n",
    "    with rasterio.open(file) as src:\n",
    "        arr = src.read()\n",
    "    \n",
    "    ax.imshow(arr[0], cmap=\"GnBu\")\n",
    "    \n",
    "    \n",
    "    date = file.split(\"_\")[-1].split('/')[0]\n",
    "    ax.set_title(date)\n",
    "\n",
    "for ax in axes.flatten():\n",
    "    ax.axis(\"off\")\n",
    "plt.tight_layout()"
   ]
  },
  {
   "cell_type": "markdown",
   "metadata": {
    "tags": []
   },
   "source": [
    "### Google Earth Engine Delivery\n",
    "\n",
    "In order to deliver straight to earth engine you need to connect your gee account to a google cloud project and authorize planet to deliver to it. [Here](https://developers.planet.com/docs/integrations/gee/quickstart/) are some instrucitons to help with the process."
   ]
  },
  {
   "cell_type": "code",
   "execution_count": null,
   "metadata": {},
   "outputs": [],
   "source": [
    "async def assemble_order(item_ids, delivery=None):\n",
    "    products = [\n",
    "        order_request.product(item_ids, 'analytic_8b_sr_udm2', 'PSScene')\n",
    "    ]\n",
    "    tools = [order_request.clip_tool(aoi=geom_all)]\n",
    "    request = order_request.build_request(\n",
    "        'test_order_sdk', products=products, tools=tools, delivery=delivery)\n",
    "    return request\n",
    "\n",
    "\n",
    "delivery = order_request.google_earth_engine(\n",
    "    project=\"planet-services-staging\",\n",
    "    collection=\"gis-day-gee-demo\")\n",
    "\n",
    "\n",
    "item_ids = [item[\"id\"] for item in item_list]\n",
    "request =  await assemble_order(item_ids, delivery=delivery)\n",
    "\n",
    "\n",
    "# an async Orders client to request order creation\n",
    "async with Session() as sess:\n",
    "    cl = OrdersClient(sess)\n",
    "    with reporting.StateBar(state='creating') as bar:\n",
    "        # create order via Orders client\n",
    "        order = await cl.create_order(request)\n",
    "        bar.update(state='created', order_id=order['id'])\n",
    "        await cl.wait(order['id'], callback=bar.update_state)"
   ]
  }
 ],
 "metadata": {
  "kernelspec": {
   "display_name": "Python 3 (ipykernel)",
   "language": "python",
   "name": "python3"
  },
  "language_info": {
   "codemirror_mode": {
    "name": "ipython",
    "version": 3
   },
   "file_extension": ".py",
   "mimetype": "text/x-python",
   "name": "python",
   "nbconvert_exporter": "python",
   "pygments_lexer": "ipython3",
   "version": "3.11.5"
  }
 },
 "nbformat": 4,
 "nbformat_minor": 4
}
